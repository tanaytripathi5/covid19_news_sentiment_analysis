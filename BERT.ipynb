{
  "nbformat": 4,
  "nbformat_minor": 0,
  "metadata": {
    "colab": {
      "name": "8_TASK2.ipynb",
      "provenance": []
    },
    "kernelspec": {
      "name": "python3",
      "display_name": "Python 3"
    },
    "accelerator": "GPU"
  },
  "cells": [
    {
      "cell_type": "code",
      "metadata": {
        "id": "EBt5gpyXmiRl"
      },
      "source": [
        "## TASK 2 SUBMISSION \r\n",
        "## USING BERT PRETRAINED MODEL FOR SENTIMENT ANALYSIS\\\r\n",
        "## TANAY TRIPATHI 3RD YEAR ENTC"
      ],
      "execution_count": 1,
      "outputs": []
    },
    {
      "cell_type": "code",
      "metadata": {
        "colab": {
          "base_uri": "https://localhost:8080/"
        },
        "id": "PDb_ciG04C19",
        "outputId": "ab8e4707-ea9f-4f06-d996-2df59157e188"
      },
      "source": [
        "!pip install bert-for-tf2\r\n",
        "!pip install sentencepiece"
      ],
      "execution_count": 2,
      "outputs": [
        {
          "output_type": "stream",
          "text": [
            "Collecting bert-for-tf2\n",
            "\u001b[?25l  Downloading https://files.pythonhosted.org/packages/a5/a1/acb891630749c56901e770a34d6bac8a509a367dd74a05daf7306952e910/bert-for-tf2-0.14.9.tar.gz (41kB)\n",
            "\r\u001b[K     |████████                        | 10kB 24.2MB/s eta 0:00:01\r\u001b[K     |████████████████                | 20kB 25.9MB/s eta 0:00:01\r\u001b[K     |███████████████████████▉        | 30kB 21.8MB/s eta 0:00:01\r\u001b[K     |███████████████████████████████▉| 40kB 21.0MB/s eta 0:00:01\r\u001b[K     |████████████████████████████████| 51kB 7.5MB/s \n",
            "\u001b[?25hCollecting py-params>=0.9.6\n",
            "  Downloading https://files.pythonhosted.org/packages/75/2c/2256f28ef35946682ce703e69de914773c3f62048f4de6966d4e2dc1930a/py-params-0.10.1.tar.gz\n",
            "Collecting params-flow>=0.8.0\n",
            "  Downloading https://files.pythonhosted.org/packages/a9/95/ff49f5ebd501f142a6f0aaf42bcfd1c192dc54909d1d9eb84ab031d46056/params-flow-0.8.2.tar.gz\n",
            "Requirement already satisfied: numpy in /usr/local/lib/python3.6/dist-packages (from params-flow>=0.8.0->bert-for-tf2) (1.19.5)\n",
            "Requirement already satisfied: tqdm in /usr/local/lib/python3.6/dist-packages (from params-flow>=0.8.0->bert-for-tf2) (4.41.1)\n",
            "Building wheels for collected packages: bert-for-tf2, py-params, params-flow\n",
            "  Building wheel for bert-for-tf2 (setup.py) ... \u001b[?25l\u001b[?25hdone\n",
            "  Created wheel for bert-for-tf2: filename=bert_for_tf2-0.14.9-cp36-none-any.whl size=30534 sha256=c4a7b27a2f98bcb136549b1e937d02d2d6875b60534112e0ae5e0c49cbcd023d\n",
            "  Stored in directory: /root/.cache/pip/wheels/a1/04/ee/347bd9f5b821b637c76411d280271a857aece00358896a230f\n",
            "  Building wheel for py-params (setup.py) ... \u001b[?25l\u001b[?25hdone\n",
            "  Created wheel for py-params: filename=py_params-0.10.1-cp36-none-any.whl size=7849 sha256=787de84498cc604f3962a53109d533f1476e69e89690e4f5b47d7a0bea6f16fe\n",
            "  Stored in directory: /root/.cache/pip/wheels/fd/13/cf/731530f5760266e69a40217ea27fa0d39a2d2a67230a73e2bc\n",
            "  Building wheel for params-flow (setup.py) ... \u001b[?25l\u001b[?25hdone\n",
            "  Created wheel for params-flow: filename=params_flow-0.8.2-cp36-none-any.whl size=19474 sha256=de54524374368b01cef8640f24e63d2ffa4eb02a6a460e9a43925e3a7916d91f\n",
            "  Stored in directory: /root/.cache/pip/wheels/08/c8/7f/81c86b9ff2b86e2c477e3914175be03e679e596067dc630c06\n",
            "Successfully built bert-for-tf2 py-params params-flow\n",
            "Installing collected packages: py-params, params-flow, bert-for-tf2\n",
            "Successfully installed bert-for-tf2-0.14.9 params-flow-0.8.2 py-params-0.10.1\n",
            "Collecting sentencepiece\n",
            "\u001b[?25l  Downloading https://files.pythonhosted.org/packages/14/67/e42bd1181472c95c8cda79305df848264f2a7f62740995a46945d9797b67/sentencepiece-0.1.95-cp36-cp36m-manylinux2014_x86_64.whl (1.2MB)\n",
            "\u001b[K     |████████████████████████████████| 1.2MB 13.7MB/s \n",
            "\u001b[?25hInstalling collected packages: sentencepiece\n",
            "Successfully installed sentencepiece-0.1.95\n"
          ],
          "name": "stdout"
        }
      ]
    },
    {
      "cell_type": "code",
      "metadata": {
        "id": "xTjJXvtn6wYI"
      },
      "source": [
        "import tensorflow as tf\r\n",
        "import tensorflow_hub as hub\r\n",
        "from tensorflow.keras import layers\r\n",
        "import bert"
      ],
      "execution_count": 3,
      "outputs": []
    },
    {
      "cell_type": "code",
      "metadata": {
        "id": "TfSiSXFT6534"
      },
      "source": [
        "import pandas as pd\r\n",
        "data = pd.read_csv('raw_data.csv')"
      ],
      "execution_count": 4,
      "outputs": []
    },
    {
      "cell_type": "code",
      "metadata": {
        "id": "De40ckdj7gTT"
      },
      "source": [
        "from sklearn.model_selection import train_test_split\r\n",
        "def new(covid,sentiment):\r\n",
        "    if ((covid==1) & (sentiment==0)):\r\n",
        "        score = 0\r\n",
        "    elif ((covid==1) & (sentiment==1)):\r\n",
        "        score = 1\r\n",
        "    elif ((covid == 0) & (sentiment==0)):\r\n",
        "        score = 2\r\n",
        "    elif ((covid == 0) & (sentiment==1)):\r\n",
        "        score = 3\r\n",
        "    return score\r\n",
        "\r\n",
        "c = data['Covid'].tolist()\r\n",
        "s = data['Sentiment'].tolist()\r\n",
        "score = []\r\n",
        "for i  in range(0,4072):\r\n",
        "    score.append(new(c[i],s[i]))\r\n",
        "data['label'] = score\r\n",
        "\r\n",
        "data = data[['Description','label']]\r\n",
        "\r\n"
      ],
      "execution_count": 5,
      "outputs": []
    },
    {
      "cell_type": "code",
      "metadata": {
        "colab": {
          "base_uri": "https://localhost:8080/",
          "height": 349
        },
        "id": "rCsBC1ghkZSS",
        "outputId": "3ccc41da-c503-411e-ca3f-f5a3cca22666"
      },
      "source": [
        "import seaborn as sns\r\n",
        "sns.countplot(data.label)"
      ],
      "execution_count": 6,
      "outputs": [
        {
          "output_type": "stream",
          "text": [
            "/usr/local/lib/python3.6/dist-packages/seaborn/_decorators.py:43: FutureWarning: Pass the following variable as a keyword arg: x. From version 0.12, the only valid positional argument will be `data`, and passing other arguments without an explicit keyword will result in an error or misinterpretation.\n",
            "  FutureWarning\n"
          ],
          "name": "stderr"
        },
        {
          "output_type": "execute_result",
          "data": {
            "text/plain": [
              "<matplotlib.axes._subplots.AxesSubplot at 0x7f3f492765f8>"
            ]
          },
          "metadata": {
            "tags": []
          },
          "execution_count": 6
        },
        {
          "output_type": "display_data",
          "data": {
            "image/png": "[encoded data removed]",
            "text/plain": [
              "<Figure size 432x288 with 1 Axes>"
            ]
          },
          "metadata": {
            "tags": [],
            "needs_background": "light"
          }
        }
      ]
    },
    {
      "cell_type": "code",
      "metadata": {
        "id": "l5zI14cN7I0f"
      },
      "source": [
        "import re\r\n",
        "def preprocess_text(sen):\r\n",
        "    # Removing html tags\r\n",
        "    sentence = remove_tags(sen)\r\n",
        "\r\n",
        "    # Remove punctuations and numbers\r\n",
        "    sentence = re.sub('[^a-zA-Z]', ' ', sentence)\r\n",
        "\r\n",
        "    # Single character removal\r\n",
        "    sentence = re.sub(r\"\\s+[a-zA-Z]\\s+\", ' ', sentence)\r\n",
        "\r\n",
        "    # Removing multiple spaces\r\n",
        "    sentence = re.sub(r'\\s+', ' ', sentence)\r\n",
        "\r\n",
        "    return sentence"
      ],
      "execution_count": 7,
      "outputs": []
    },
    {
      "cell_type": "code",
      "metadata": {
        "id": "Ug5Fcrib7K5X"
      },
      "source": [
        "TAG_RE = re.compile(r'<[^>]+>')\r\n",
        "\r\n",
        "def remove_tags(text):\r\n",
        "    return TAG_RE.sub('', text)"
      ],
      "execution_count": 8,
      "outputs": []
    },
    {
      "cell_type": "code",
      "metadata": {
        "id": "p3_hhX7r7Nff"
      },
      "source": [
        "news = []\r\n",
        "sentences = list(data['Description'])\r\n",
        "for sen in sentences:\r\n",
        "    news.append(preprocess_text(sen))"
      ],
      "execution_count": 9,
      "outputs": []
    },
    {
      "cell_type": "code",
      "metadata": {
        "colab": {
          "base_uri": "https://localhost:8080/"
        },
        "id": "4isRGpvy7sPF",
        "outputId": "76281229-7863-4ffa-f632-a68ba7e26631"
      },
      "source": [
        "print(data.columns.values)"
      ],
      "execution_count": 10,
      "outputs": [
        {
          "output_type": "stream",
          "text": [
            "['Description' 'label']\n"
          ],
          "name": "stdout"
        }
      ]
    },
    {
      "cell_type": "code",
      "metadata": {
        "id": "7qI39Aic9RYg"
      },
      "source": [
        "import numpy as np\r\n",
        "y = data['label']\r\n",
        "\r\n",
        "y = np.array(y)"
      ],
      "execution_count": 11,
      "outputs": []
    },
    {
      "cell_type": "code",
      "metadata": {
        "id": "N71Yhv1d7wiW"
      },
      "source": [
        "BertTokenizer = bert.bert_tokenization.FullTokenizer\r\n",
        "bert_layer = hub.KerasLayer(\"https://tfhub.dev/tensorflow/bert_en_uncased_L-12_H-768_A-12/1\",\r\n",
        "                            trainable=False)\r\n",
        "vocabulary_file = bert_layer.resolved_object.vocab_file.asset_path.numpy()\r\n",
        "to_lower_case = bert_layer.resolved_object.do_lower_case.numpy()\r\n",
        "tokenizer = BertTokenizer(vocabulary_file, to_lower_case)"
      ],
      "execution_count": 12,
      "outputs": []
    },
    {
      "cell_type": "code",
      "metadata": {
        "colab": {
          "base_uri": "https://localhost:8080/"
        },
        "id": "rGZHzrAk75Vm",
        "outputId": "68637068-8cf8-44f5-86bd-38b43b2b543a"
      },
      "source": [
        "tokenizer.tokenize(news[0])"
      ],
      "execution_count": 13,
      "outputs": [
        {
          "output_type": "execute_result",
          "data": {
            "text/plain": [
              "['vis',\n",
              " '##hwa',\n",
              " 'hindu',\n",
              " 'parish',\n",
              " '##ad',\n",
              " 'v',\n",
              " '##hp',\n",
              " 'and',\n",
              " 'ram',\n",
              " 'jan',\n",
              " '##ma',\n",
              " '##bh',\n",
              " '##oom',\n",
              " '##i',\n",
              " 'ny',\n",
              " '##as',\n",
              " 'leaders',\n",
              " 'said',\n",
              " 'that',\n",
              " 'no',\n",
              " 'grand',\n",
              " 'celebrations',\n",
              " 'for',\n",
              " 'ram',\n",
              " 'na',\n",
              " '##va',\n",
              " '##mi',\n",
              " 'will',\n",
              " 'be',\n",
              " 'held',\n",
              " 'in',\n",
              " 'a',\n",
              " '##yo',\n",
              " '##dh',\n",
              " '##ya',\n",
              " 'amid',\n",
              " 'corona',\n",
              " '##virus',\n",
              " 'outbreak',\n",
              " 'smaller',\n",
              " 'celebrations',\n",
              " 'will',\n",
              " 'happen',\n",
              " 'after',\n",
              " 'considering',\n",
              " 'the',\n",
              " 'local',\n",
              " 'rules',\n",
              " 'regarding',\n",
              " 'health',\n",
              " 'emergency',\n",
              " 'v',\n",
              " '##hp',\n",
              " 'official',\n",
              " 'said',\n",
              " 'for',\n",
              " 'mass',\n",
              " 'awakening',\n",
              " 'we',\n",
              " 'll',\n",
              " 'ho',\n",
              " '##ist',\n",
              " 'small',\n",
              " 'sa',\n",
              " '##ff',\n",
              " '##ron',\n",
              " 'flags',\n",
              " 'at',\n",
              " 'every',\n",
              " 'hindu',\n",
              " 'house',\n",
              " 'across',\n",
              " 'india',\n",
              " 'the',\n",
              " 'official',\n",
              " 'added']"
            ]
          },
          "metadata": {
            "tags": []
          },
          "execution_count": 13
        }
      ]
    },
    {
      "cell_type": "code",
      "metadata": {
        "colab": {
          "base_uri": "https://localhost:8080/"
        },
        "id": "bCCiDoP78GpW",
        "outputId": "79b8f03f-f0ea-46b3-8ff2-b4a7cd5868f6"
      },
      "source": [
        "tokenizer.convert_tokens_to_ids(tokenizer.tokenize(news[0]))"
      ],
      "execution_count": 14,
      "outputs": [
        {
          "output_type": "execute_result",
          "data": {
            "text/plain": [
              "[25292,\n",
              " 18663,\n",
              " 7560,\n",
              " 3583,\n",
              " 4215,\n",
              " 1058,\n",
              " 22269,\n",
              " 1998,\n",
              " 8223,\n",
              " 5553,\n",
              " 2863,\n",
              " 23706,\n",
              " 17650,\n",
              " 2072,\n",
              " 6396,\n",
              " 3022,\n",
              " 4177,\n",
              " 2056,\n",
              " 2008,\n",
              " 2053,\n",
              " 2882,\n",
              " 12035,\n",
              " 2005,\n",
              " 8223,\n",
              " 6583,\n",
              " 3567,\n",
              " 4328,\n",
              " 2097,\n",
              " 2022,\n",
              " 2218,\n",
              " 1999,\n",
              " 1037,\n",
              " 7677,\n",
              " 16425,\n",
              " 3148,\n",
              " 13463,\n",
              " 21887,\n",
              " 23350,\n",
              " 8293,\n",
              " 3760,\n",
              " 12035,\n",
              " 2097,\n",
              " 4148,\n",
              " 2044,\n",
              " 6195,\n",
              " 1996,\n",
              " 2334,\n",
              " 3513,\n",
              " 4953,\n",
              " 2740,\n",
              " 5057,\n",
              " 1058,\n",
              " 22269,\n",
              " 2880,\n",
              " 2056,\n",
              " 2005,\n",
              " 3742,\n",
              " 16936,\n",
              " 2057,\n",
              " 2222,\n",
              " 7570,\n",
              " 2923,\n",
              " 2235,\n",
              " 7842,\n",
              " 4246,\n",
              " 4948,\n",
              " 9245,\n",
              " 2012,\n",
              " 2296,\n",
              " 7560,\n",
              " 2160,\n",
              " 2408,\n",
              " 2634,\n",
              " 1996,\n",
              " 2880,\n",
              " 2794]"
            ]
          },
          "metadata": {
            "tags": []
          },
          "execution_count": 14
        }
      ]
    },
    {
      "cell_type": "code",
      "metadata": {
        "id": "9ZIvzzPu8S5W"
      },
      "source": [
        "def tokenize_news(text_news):\r\n",
        "    return tokenizer.convert_tokens_to_ids(tokenizer.tokenize(text_news))"
      ],
      "execution_count": 15,
      "outputs": []
    },
    {
      "cell_type": "code",
      "metadata": {
        "id": "uhirH--G8WXe"
      },
      "source": [
        "tokenized_news = [tokenize_news(review) for review in news]"
      ],
      "execution_count": 16,
      "outputs": []
    },
    {
      "cell_type": "code",
      "metadata": {
        "id": "9fE8sT6V8Y8d"
      },
      "source": [
        "news_with_len = [[review, y[i], len(review)] for i, review in enumerate(tokenized_news)]"
      ],
      "execution_count": 17,
      "outputs": []
    },
    {
      "cell_type": "code",
      "metadata": {
        "id": "kYYMo2eD9jh2"
      },
      "source": [
        "news_with_len.sort(key=lambda x: x[2])"
      ],
      "execution_count": 18,
      "outputs": []
    },
    {
      "cell_type": "code",
      "metadata": {
        "id": "6TLTpKuo9ud-"
      },
      "source": [
        "sorted_news_labels = [(review_lab[0], review_lab[1]) for review_lab in news_with_len]"
      ],
      "execution_count": 19,
      "outputs": []
    },
    {
      "cell_type": "code",
      "metadata": {
        "id": "V57DZNPB9ytd"
      },
      "source": [
        "processed_dataset = tf.data.Dataset.from_generator(lambda: sorted_news_labels, output_types=(tf.int32, tf.int32))"
      ],
      "execution_count": 20,
      "outputs": []
    },
    {
      "cell_type": "code",
      "metadata": {
        "id": "gdHoYQ5v90xO"
      },
      "source": [
        "BATCH_SIZE = 32\r\n",
        "batched_dataset = processed_dataset.padded_batch(BATCH_SIZE, padded_shapes=((None, ), ()))"
      ],
      "execution_count": 21,
      "outputs": []
    },
    {
      "cell_type": "code",
      "metadata": {
        "colab": {
          "base_uri": "https://localhost:8080/"
        },
        "id": "xK8kB62993nl",
        "outputId": "1872c63e-b1bf-4013-fce8-ecec868e510f"
      },
      "source": [
        "next(iter(batched_dataset))"
      ],
      "execution_count": 22,
      "outputs": [
        {
          "output_type": "execute_result",
          "data": {
            "text/plain": [
              "(<tf.Tensor: shape=(32, 51), dtype=int32, numpy=\n",
              " array([[ 3757,  1997,  6236, ...,     0,     0,     0],\n",
              "        [ 1996,  3757,  1997, ...,     0,     0,     0],\n",
              "        [ 1996,  2796,  2473, ...,     0,     0,     0],\n",
              "        ...,\n",
              "        [ 1996,  2193,  1997, ...,  5288,  3053,     0],\n",
              "        [ 2035,  2430, 16410, ...,  1996,  4822,     0],\n",
              "        [21887, 23350,  6677, ...,  1998,  1996,  2149]], dtype=int32)>,\n",
              " <tf.Tensor: shape=(32,), dtype=int32, numpy=\n",
              " array([3, 0, 1, 0, 0, 0, 0, 0, 0, 2, 0, 0, 0, 0, 0, 2, 0, 0, 0, 0, 0, 0,\n",
              "        1, 1, 0, 0, 1, 0, 1, 0, 1, 0], dtype=int32)>)"
            ]
          },
          "metadata": {
            "tags": []
          },
          "execution_count": 22
        }
      ]
    },
    {
      "cell_type": "code",
      "metadata": {
        "id": "gWLSJ_g695P1"
      },
      "source": [
        "import math\r\n",
        "TOTAL_BATCHES = math.ceil(len(sorted_news_labels) / BATCH_SIZE)\r\n",
        "val_BATCHES = TOTAL_BATCHES // 10\r\n",
        "batched_dataset.shuffle(TOTAL_BATCHES)\r\n",
        "val_data = batched_dataset.take(val_BATCHES)\r\n",
        "train_data = batched_dataset.skip(val_BATCHES)"
      ],
      "execution_count": 23,
      "outputs": []
    },
    {
      "cell_type": "code",
      "metadata": {
        "id": "d-W-3gGO98Pd"
      },
      "source": [
        "class TEXT_MODEL(tf.keras.Model):\r\n",
        "    \r\n",
        "    def __init__(self,\r\n",
        "                 vocabulary_size,\r\n",
        "                 embedding_dimensions=128,\r\n",
        "                 cnn_filters=50,\r\n",
        "                 dnn_units=512,\r\n",
        "                 model_output_classes=2,\r\n",
        "                 dropout_rate=0.1,\r\n",
        "                 training=False,\r\n",
        "                 name=\"text_model\"):\r\n",
        "        super(TEXT_MODEL, self).__init__(name=name)\r\n",
        "        \r\n",
        "        self.embedding = layers.Embedding(vocabulary_size,\r\n",
        "                                          embedding_dimensions)\r\n",
        "        self.cnn_layer1 = layers.Conv1D(filters=cnn_filters,\r\n",
        "                                        kernel_size=2,\r\n",
        "                                        padding=\"valid\",\r\n",
        "                                        activation=\"relu\")\r\n",
        "        self.cnn_layer2 = layers.Conv1D(filters=cnn_filters,\r\n",
        "                                        kernel_size=3,\r\n",
        "                                        padding=\"valid\",\r\n",
        "                                        activation=\"relu\")\r\n",
        "        self.cnn_layer3 = layers.Conv1D(filters=cnn_filters,\r\n",
        "                                        kernel_size=4,\r\n",
        "                                        padding=\"valid\",\r\n",
        "                                        activation=\"relu\")\r\n",
        "        self.pool = layers.GlobalMaxPool1D()\r\n",
        "        \r\n",
        "        self.dense_1 = layers.Dense(units=dnn_units, activation=\"relu\")\r\n",
        "        self.dropout = layers.Dropout(rate=dropout_rate)\r\n",
        "        self.last_dense = layers.Dense(units=4,\r\n",
        "                                           activation=\"softmax\")\r\n",
        "    \r\n",
        "    def call(self, inputs, training):\r\n",
        "        l = self.embedding(inputs)\r\n",
        "        l_1 = self.cnn_layer1(l) \r\n",
        "        l_1 = self.pool(l_1) \r\n",
        "        l_2 = self.cnn_layer2(l) \r\n",
        "        l_2 = self.pool(l_2)\r\n",
        "        l_3 = self.cnn_layer3(l)\r\n",
        "        l_3 = self.pool(l_3) \r\n",
        "        \r\n",
        "        concatenated = tf.concat([l_1, l_2, l_3], axis=-1) # (batch_size, 3 * cnn_filters)\r\n",
        "        concatenated = self.dense_1(concatenated)\r\n",
        "        concatenated = self.dropout(concatenated, training)\r\n",
        "        model_output = self.last_dense(concatenated)\r\n",
        "        \r\n",
        "        return model_output"
      ],
      "execution_count": 24,
      "outputs": []
    },
    {
      "cell_type": "code",
      "metadata": {
        "id": "-ZwAAoOF-JeV"
      },
      "source": [
        "VOCAB_LENGTH = len(tokenizer.vocab)\r\n",
        "EMB_DIM = 200\r\n",
        "CNN_FILTERS = 100\r\n",
        "DNN_UNITS = 256\r\n",
        "OUTPUT_CLASSES = 4\r\n",
        "\r\n",
        "DROPOUT_RATE = 0.2\r\n",
        "\r\n",
        "NB_EPOCHS = 5"
      ],
      "execution_count": 25,
      "outputs": []
    },
    {
      "cell_type": "code",
      "metadata": {
        "id": "vYnlG8PW-OD1"
      },
      "source": [
        "text_model = TEXT_MODEL(vocabulary_size=VOCAB_LENGTH,\r\n",
        "                        embedding_dimensions=EMB_DIM,\r\n",
        "                        cnn_filters=CNN_FILTERS,\r\n",
        "                        dnn_units=DNN_UNITS,\r\n",
        "                        model_output_classes=OUTPUT_CLASSES,\r\n",
        "                        dropout_rate=DROPOUT_RATE)"
      ],
      "execution_count": 26,
      "outputs": []
    },
    {
      "cell_type": "code",
      "metadata": {
        "id": "Q0vNrdx0-QN-"
      },
      "source": [
        "text_model.compile(loss=\"sparse_categorical_crossentropy\",\r\n",
        "                       optimizer=\"adam\",\r\n",
        "                       metrics=[\"sparse_categorical_accuracy\"])"
      ],
      "execution_count": 27,
      "outputs": []
    },
    {
      "cell_type": "code",
      "metadata": {
        "colab": {
          "base_uri": "https://localhost:8080/"
        },
        "id": "7Cp3AZ51-UqG",
        "outputId": "0f0ed145-6510-4922-e542-74c12673a18d"
      },
      "source": [
        "text_model.fit(train_data, epochs=NB_EPOCHS)"
      ],
      "execution_count": 28,
      "outputs": [
        {
          "output_type": "stream",
          "text": [
            "Epoch 1/5\n",
            "92/92 [==============================] - 25s 190ms/step - loss: 1.0814 - sparse_categorical_accuracy: 0.5258\n",
            "Epoch 2/5\n",
            "92/92 [==============================] - 5s 58ms/step - loss: 0.6817 - sparse_categorical_accuracy: 0.7113\n",
            "Epoch 3/5\n",
            "92/92 [==============================] - 5s 58ms/step - loss: 0.3532 - sparse_categorical_accuracy: 0.8870\n",
            "Epoch 4/5\n",
            "92/92 [==============================] - 5s 57ms/step - loss: 0.1030 - sparse_categorical_accuracy: 0.9795\n",
            "Epoch 5/5\n",
            "92/92 [==============================] - 5s 58ms/step - loss: 0.0369 - sparse_categorical_accuracy: 0.9914\n"
          ],
          "name": "stdout"
        },
        {
          "output_type": "execute_result",
          "data": {
            "text/plain": [
              "<tensorflow.python.keras.callbacks.History at 0x7f3ed60316d8>"
            ]
          },
          "metadata": {
            "tags": []
          },
          "execution_count": 28
        }
      ]
    },
    {
      "cell_type": "code",
      "metadata": {
        "colab": {
          "base_uri": "https://localhost:8080/"
        },
        "id": "bBnQ_HnW-XWF",
        "outputId": "2ebd2757-c973-41fb-d5c9-27ab764a7a34"
      },
      "source": [
        "results = text_model.evaluate(val_data)\r\n",
        "print(results)"
      ],
      "execution_count": 29,
      "outputs": [
        {
          "output_type": "stream",
          "text": [
            "10/10 [==============================] - 1s 36ms/step - loss: 0.4864 - sparse_categorical_accuracy: 0.8719\n",
            "[0.48642927408218384, 0.871874988079071]\n"
          ],
          "name": "stdout"
        }
      ]
    },
    {
      "cell_type": "code",
      "metadata": {
        "id": "V2ajLt2G-2Jv",
        "colab": {
          "base_uri": "https://localhost:8080/"
        },
        "outputId": "aafeb62f-bc72-4d8b-92b7-8e3c43d7fe37"
      },
      "source": [
        "news = []\r\n",
        "text = \"Maharashtra universities demand resumption of classroom teaching\"\r\n",
        "text_list = []\r\n",
        "text_list.append(text)\r\n",
        "sentences = list(text_list)\r\n",
        "for sen in sentences:\r\n",
        "    news.append(preprocess_text(sen))\r\n",
        "\r\n",
        "tokenized_news = [tokenize_news(review) for review in news]\r\n",
        "news_with_len = [[review, y[i], len(review)] for i, review in enumerate(tokenized_news)]\r\n",
        "news_with_len.sort(key=lambda x: x[2])\r\n",
        "sorted_news_labels = [(review_lab[0], review_lab[1]) for review_lab in news_with_len]\r\n",
        "processed_dataset = tf.data.Dataset.from_generator(lambda: sorted_news_labels, output_types=(tf.int32, tf.int32))\r\n",
        "BATCH_SIZE = 1\r\n",
        "test_dataset = processed_dataset.padded_batch(BATCH_SIZE, padded_shapes=((None, ), ()))\r\n",
        "next(iter(test_dataset))"
      ],
      "execution_count": 94,
      "outputs": [
        {
          "output_type": "execute_result",
          "data": {
            "text/plain": [
              "(<tf.Tensor: shape=(1, 9), dtype=int32, numpy=\n",
              " array([[12434,  5534,  5157, 24501, 24237,  3508,  1997,  9823,  4252]],\n",
              "       dtype=int32)>,\n",
              " <tf.Tensor: shape=(1,), dtype=int32, numpy=array([0], dtype=int32)>)"
            ]
          },
          "metadata": {
            "tags": []
          },
          "execution_count": 94
        }
      ]
    },
    {
      "cell_type": "code",
      "metadata": {
        "colab": {
          "base_uri": "https://localhost:8080/"
        },
        "id": "pzjQcxcKcpAC",
        "outputId": "bd60ef51-ec80-4085-9b5a-cd0a5c444990"
      },
      "source": [
        "next(iter(test_dataset))"
      ],
      "execution_count": 95,
      "outputs": [
        {
          "output_type": "execute_result",
          "data": {
            "text/plain": [
              "(<tf.Tensor: shape=(1, 9), dtype=int32, numpy=\n",
              " array([[12434,  5534,  5157, 24501, 24237,  3508,  1997,  9823,  4252]],\n",
              "       dtype=int32)>,\n",
              " <tf.Tensor: shape=(1,), dtype=int32, numpy=array([0], dtype=int32)>)"
            ]
          },
          "metadata": {
            "tags": []
          },
          "execution_count": 95
        }
      ]
    },
    {
      "cell_type": "code",
      "metadata": {
        "colab": {
          "base_uri": "https://localhost:8080/"
        },
        "id": "-HxVF2WKcuxz",
        "outputId": "2dff6ad1-6521-470d-a481-e1556e921c3a"
      },
      "source": [
        "result = text_model.predict(test_dataset)\r\n",
        "print(np.argmax(result))"
      ],
      "execution_count": 96,
      "outputs": [
        {
          "output_type": "stream",
          "text": [
            "3\n"
          ],
          "name": "stdout"
        }
      ]
    },
    {
      "cell_type": "code",
      "metadata": {
        "colab": {
          "base_uri": "https://localhost:8080/"
        },
        "id": "-k44NzLkdBl3",
        "outputId": "f9753acf-8fc8-472a-b8dc-98fa00d304d0"
      },
      "source": [
        ""
      ],
      "execution_count": 39,
      "outputs": [
        {
          "output_type": "stream",
          "text": [
            "26/26 [==============================] - 0s 8ms/step - loss: 3.9259 - sparse_categorical_accuracy: 0.3681\n"
          ],
          "name": "stdout"
        },
        {
          "output_type": "execute_result",
          "data": {
            "text/plain": [
              "[3.9258594512939453, 0.3680981695652008]"
            ]
          },
          "metadata": {
            "tags": []
          },
          "execution_count": 39
        }
      ]
    },
    {
      "cell_type": "code",
      "metadata": {
        "id": "c5bNeAp4dRRz"
      },
      "source": [
        ""
      ],
      "execution_count": 39,
      "outputs": []
    },
    {
      "cell_type": "code",
      "metadata": {
        "id": "EpoqjHvRmciw"
      },
      "source": [
        ""
      ],
      "execution_count": 39,
      "outputs": []
    }
  ]
}