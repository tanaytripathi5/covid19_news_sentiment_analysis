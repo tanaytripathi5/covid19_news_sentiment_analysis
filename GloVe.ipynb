{
  "nbformat": 4,
  "nbformat_minor": 0,
  "metadata": {
    "colab": {
      "name": "Untitled25.ipynb",
      "provenance": [],
      "collapsed_sections": []
    },
    "kernelspec": {
      "name": "python3",
      "display_name": "Python 3"
    }
  },
  "cells": [
    {
      "cell_type": "code",
      "metadata": {
        "id": "-xe6QSCKAYAw"
      },
      "source": [
        "## TASK 2 sentiment analysis with GloVe embeddings\r\n",
        "# Tanay Tripathi\r\n"
      ],
      "execution_count": null,
      "outputs": []
    },
    {
      "cell_type": "code",
      "metadata": {
        "id": "xJb9j4jYuX3S"
      },
      "source": [
        "#importing libraries\r\n",
        "import pandas as pd\r\n",
        "import numpy as np\r\n",
        "import tensorflow as tf\r\n",
        "from tensorflow.keras.models import *\r\n",
        "from tensorflow.keras.layers import *\r\n",
        "from tensorflow.keras.callbacks import *\r\n",
        "import matplotlib.pyplot as plt\r\n",
        "\r\n",
        "\r\n",
        "\r\n"
      ],
      "execution_count": 47,
      "outputs": []
    },
    {
      "cell_type": "code",
      "metadata": {
        "id": "Pg0CV8NAuoyA"
      },
      "source": [
        "data = pd.read_csv('raw_data.csv')"
      ],
      "execution_count": 10,
      "outputs": []
    },
    {
      "cell_type": "code",
      "metadata": {
        "id": "kqZWQGj-uu6Y"
      },
      "source": [
        "from sklearn.model_selection import train_test_split\r\n",
        "def new(covid,sentiment):\r\n",
        "    if ((covid==1) & (sentiment==0)):\r\n",
        "        score = 0\r\n",
        "    elif ((covid==1) & (sentiment==1)):\r\n",
        "        score = 1\r\n",
        "    elif ((covid == 0) & (sentiment==0)):\r\n",
        "        score = 2\r\n",
        "    elif ((covid == 0) & (sentiment==1)):\r\n",
        "        score = 3\r\n",
        "    return score\r\n",
        "\r\n",
        "c = data['Covid'].tolist()\r\n",
        "s = data['Sentiment'].tolist()\r\n",
        "score = []\r\n",
        "for i  in range(0,4072):\r\n",
        "    score.append(new(c[i],s[i]))\r\n",
        "data['label'] = score\r\n",
        "\r\n",
        "data = data[['Headline','label']]\r\n",
        "\r\n",
        "train , valid = train_test_split(data , test_size = 0.2 , random_state = 42)"
      ],
      "execution_count": 11,
      "outputs": []
    },
    {
      "cell_type": "code",
      "metadata": {
        "id": "4JXjPqTKunyf"
      },
      "source": [
        "\r\n",
        "#train_test split\r\n",
        "x_tr, y_tr = train['Headline'].values, train['label'].values\r\n",
        "x_val, y_val = valid['Headline'].values, valid['label'].values"
      ],
      "execution_count": 12,
      "outputs": []
    },
    {
      "cell_type": "code",
      "metadata": {
        "id": "CzC7Lmbmu3Qq"
      },
      "source": [
        "from keras.preprocessing.text import Tokenizer\r\n",
        "from keras.preprocessing.sequence import pad_sequences\r\n",
        "\r\n",
        "#Tokenize the sentences\r\n",
        "tokenizer = Tokenizer()\r\n",
        "\r\n",
        "#preparing vocabulary\r\n",
        "tokenizer.fit_on_texts(list(x_tr))\r\n",
        "\r\n",
        "#converting text into integer sequences\r\n",
        "x_tr_seq  = tokenizer.texts_to_sequences(x_tr) \r\n",
        "x_val_seq = tokenizer.texts_to_sequences(x_val)\r\n",
        "\r\n",
        "#padding to prepare sequences of same length\r\n",
        "x_tr_seq  = pad_sequences(x_tr_seq, maxlen=100)\r\n",
        "x_val_seq = pad_sequences(x_val_seq, maxlen=100)"
      ],
      "execution_count": 13,
      "outputs": []
    },
    {
      "cell_type": "code",
      "metadata": {
        "colab": {
          "base_uri": "https://localhost:8080/"
        },
        "id": "K--2stvp4G95",
        "outputId": "cc0bb769-9fee-47ca-c2c0-b7e0d63c06b6"
      },
      "source": [
        "size_of_vocabulary=len(tokenizer.word_index) + 1 #+1 for padding\r\n",
        "print(size_of_vocabulary)"
      ],
      "execution_count": 20,
      "outputs": [
        {
          "output_type": "stream",
          "text": [
            "6316\n"
          ],
          "name": "stdout"
        }
      ]
    },
    {
      "cell_type": "code",
      "metadata": {
        "colab": {
          "base_uri": "https://localhost:8080/"
        },
        "id": "YxHXuelUzfk7",
        "outputId": "914cd25f-80c0-4465-8937-7b1eef9286d4"
      },
      "source": [
        "!wget -P /root/input/ -c \"http://nlp.stanford.edu/data/glove.6B.zip\"\r\n",
        "!unzip 'glove.6B.zip'"
      ],
      "execution_count": 14,
      "outputs": [
        {
          "output_type": "stream",
          "text": [
            "--2021-01-27 12:25:38--  http://nlp.stanford.edu/data/glove.6B.zip\n",
            "Resolving nlp.stanford.edu (nlp.stanford.edu)... 171.64.67.140\n",
            "Connecting to nlp.stanford.edu (nlp.stanford.edu)|171.64.67.140|:80... connected.\n",
            "HTTP request sent, awaiting response... 302 Found\n",
            "Location: https://nlp.stanford.edu/data/glove.6B.zip [following]\n",
            "--2021-01-27 12:25:39--  https://nlp.stanford.edu/data/glove.6B.zip\n",
            "Connecting to nlp.stanford.edu (nlp.stanford.edu)|171.64.67.140|:443... connected.\n",
            "HTTP request sent, awaiting response... 301 Moved Permanently\n",
            "Location: http://downloads.cs.stanford.edu/nlp/data/glove.6B.zip [following]\n",
            "--2021-01-27 12:25:39--  http://downloads.cs.stanford.edu/nlp/data/glove.6B.zip\n",
            "Resolving downloads.cs.stanford.edu (downloads.cs.stanford.edu)... 171.64.64.22\n",
            "Connecting to downloads.cs.stanford.edu (downloads.cs.stanford.edu)|171.64.64.22|:80... connected.\n",
            "HTTP request sent, awaiting response... 200 OK\n",
            "Length: 862182613 (822M) [application/zip]\n",
            "Saving to: ‘/root/input/glove.6B.zip’\n",
            "\n",
            "glove.6B.zip        100%[===================>] 822.24M  2.27MB/s    in 6m 29s  \n",
            "\n",
            "2021-01-27 12:32:09 (2.11 MB/s) - ‘/root/input/glove.6B.zip’ saved [862182613/862182613]\n",
            "\n",
            "unzip:  cannot find or open glove.6B.zip, glove.6B.zip.zip or glove.6B.zip.ZIP.\n"
          ],
          "name": "stdout"
        }
      ]
    },
    {
      "cell_type": "code",
      "metadata": {
        "colab": {
          "base_uri": "https://localhost:8080/"
        },
        "id": "c33OiP3k1R8H",
        "outputId": "3ac1b7db-22fa-441b-acf4-7592db52c3a9"
      },
      "source": [
        "!unzip '/root/input/glove.6B.zip'"
      ],
      "execution_count": 15,
      "outputs": [
        {
          "output_type": "stream",
          "text": [
            "Archive:  /root/input/glove.6B.zip\n",
            "  inflating: glove.6B.50d.txt        \n",
            "  inflating: glove.6B.100d.txt       \n",
            "  inflating: glove.6B.200d.txt       \n",
            "  inflating: glove.6B.300d.txt       \n"
          ],
          "name": "stdout"
        }
      ]
    },
    {
      "cell_type": "code",
      "metadata": {
        "colab": {
          "base_uri": "https://localhost:8080/"
        },
        "id": "GZ_A7L0ivSws",
        "outputId": "33629edd-921a-4e5e-8a63-f5b60556f362"
      },
      "source": [
        "embeddings_index = dict()\r\n",
        "f = open('glove.6B.300d.txt')\r\n",
        "\r\n",
        "for line in f:\r\n",
        "    values = line.split()\r\n",
        "    word = values[0]\r\n",
        "    coefs = np.asarray(values[1:], dtype='float32')\r\n",
        "    embeddings_index[word] = coefs\r\n",
        "\r\n",
        "f.close()\r\n",
        "print('Loaded %s word vectors.' % len(embeddings_index))"
      ],
      "execution_count": 17,
      "outputs": [
        {
          "output_type": "stream",
          "text": [
            "Loaded 400000 word vectors.\n"
          ],
          "name": "stdout"
        }
      ]
    },
    {
      "cell_type": "code",
      "metadata": {
        "id": "G1w-OfsNxDx2"
      },
      "source": [
        "# create a weight matrix for words in training docs\r\n",
        "embedding_matrix = np.zeros((size_of_vocabulary, 300))\r\n",
        "\r\n",
        "for word, i in tokenizer.word_index.items():\r\n",
        "    embedding_vector = embeddings_index.get(word)\r\n",
        "    if embedding_vector is not None:\r\n",
        "        embedding_matrix[i] = embedding_vector"
      ],
      "execution_count": 21,
      "outputs": []
    },
    {
      "cell_type": "code",
      "metadata": {
        "colab": {
          "base_uri": "https://localhost:8080/"
        },
        "id": "DpD_LnDGxEpp",
        "outputId": "bc25222b-8284-46a9-f3ce-ce8b193ffae9"
      },
      "source": [
        "model=Sequential()\r\n",
        "\r\n",
        "#embedding layer\r\n",
        "model.add(Embedding(size_of_vocabulary,300,weights=[embedding_matrix],input_length=100,trainable=False)) \r\n",
        "\r\n",
        "#lstm layer\r\n",
        "model.add(LSTM(128,return_sequences=True,dropout=0.2))\r\n",
        "\r\n",
        "#Global Maxpooling\r\n",
        "model.add(GlobalMaxPooling1D())\r\n",
        "\r\n",
        "#Dense Layer\r\n",
        "model.add(Dense(64,activation='relu')) \r\n",
        "model.add(Dense(4,activation='softmax')) \r\n",
        "\r\n",
        "#Add loss function, metrics, optimizer\r\n",
        "model.compile(optimizer='adam', loss='sparse_categorical_crossentropy',metrics=[\"acc\"]) \r\n",
        "\r\n",
        "#Adding callbacks\r\n",
        "es = EarlyStopping(monitor='val_loss', mode='min', verbose=1,patience=3)  \r\n",
        "mc=ModelCheckpoint('best_model.h5', monitor='val_acc', mode='max', save_best_only=True,verbose=1)  \r\n",
        "\r\n",
        "#Print summary of model\r\n",
        "print(model.summary())"
      ],
      "execution_count": 28,
      "outputs": [
        {
          "output_type": "stream",
          "text": [
            "Model: \"sequential_2\"\n",
            "_________________________________________________________________\n",
            "Layer (type)                 Output Shape              Param #   \n",
            "=================================================================\n",
            "embedding_2 (Embedding)      (None, 100, 300)          1894800   \n",
            "_________________________________________________________________\n",
            "lstm_2 (LSTM)                (None, 100, 128)          219648    \n",
            "_________________________________________________________________\n",
            "global_max_pooling1d_2 (Glob (None, 128)               0         \n",
            "_________________________________________________________________\n",
            "dense_4 (Dense)              (None, 64)                8256      \n",
            "_________________________________________________________________\n",
            "dense_5 (Dense)              (None, 4)                 260       \n",
            "=================================================================\n",
            "Total params: 2,122,964\n",
            "Trainable params: 228,164\n",
            "Non-trainable params: 1,894,800\n",
            "_________________________________________________________________\n",
            "None\n"
          ],
          "name": "stdout"
        }
      ]
    },
    {
      "cell_type": "code",
      "metadata": {
        "colab": {
          "base_uri": "https://localhost:8080/"
        },
        "id": "1ZryG7MY4uFH",
        "outputId": "79098f6f-2b45-4311-fb6f-966a1c569ad3"
      },
      "source": [
        "history = model.fit(np.array(x_tr_seq),np.array(y_tr),batch_size=128,epochs=10,validation_data=(np.array(x_val_seq),np.array(y_val)),verbose=1,callbacks=[es,mc])"
      ],
      "execution_count": 29,
      "outputs": [
        {
          "output_type": "stream",
          "text": [
            "Epoch 1/10\n",
            "26/26 [==============================] - 11s 366ms/step - loss: 1.1554 - acc: 0.4834 - val_loss: 0.8652 - val_acc: 0.6233\n",
            "\n",
            "Epoch 00001: val_acc improved from -inf to 0.62331, saving model to best_model.h5\n",
            "Epoch 2/10\n",
            "26/26 [==============================] - 9s 359ms/step - loss: 0.8201 - acc: 0.6663 - val_loss: 0.7294 - val_acc: 0.6908\n",
            "\n",
            "Epoch 00002: val_acc improved from 0.62331 to 0.69080, saving model to best_model.h5\n",
            "Epoch 3/10\n",
            "26/26 [==============================] - 9s 361ms/step - loss: 0.6762 - acc: 0.7312 - val_loss: 0.6837 - val_acc: 0.7129\n",
            "\n",
            "Epoch 00003: val_acc improved from 0.69080 to 0.71288, saving model to best_model.h5\n",
            "Epoch 4/10\n",
            "26/26 [==============================] - 9s 355ms/step - loss: 0.6048 - acc: 0.7558 - val_loss: 0.6597 - val_acc: 0.7288\n",
            "\n",
            "Epoch 00004: val_acc improved from 0.71288 to 0.72883, saving model to best_model.h5\n",
            "Epoch 5/10\n",
            "26/26 [==============================] - 9s 353ms/step - loss: 0.5348 - acc: 0.7841 - val_loss: 0.6482 - val_acc: 0.7325\n",
            "\n",
            "Epoch 00005: val_acc improved from 0.72883 to 0.73252, saving model to best_model.h5\n",
            "Epoch 6/10\n",
            "26/26 [==============================] - 9s 359ms/step - loss: 0.4858 - acc: 0.8057 - val_loss: 0.6755 - val_acc: 0.7313\n",
            "\n",
            "Epoch 00006: val_acc did not improve from 0.73252\n",
            "Epoch 7/10\n",
            "26/26 [==============================] - 9s 355ms/step - loss: 0.4330 - acc: 0.8263 - val_loss: 0.6549 - val_acc: 0.7497\n",
            "\n",
            "Epoch 00007: val_acc improved from 0.73252 to 0.74969, saving model to best_model.h5\n",
            "Epoch 8/10\n",
            "26/26 [==============================] - 9s 356ms/step - loss: 0.3924 - acc: 0.8345 - val_loss: 0.6857 - val_acc: 0.7313\n",
            "\n",
            "Epoch 00008: val_acc did not improve from 0.74969\n",
            "Epoch 00008: early stopping\n"
          ],
          "name": "stdout"
        }
      ]
    },
    {
      "cell_type": "code",
      "metadata": {
        "colab": {
          "base_uri": "https://localhost:8080/",
          "height": 542
        },
        "id": "zSvqljqHA5Bk",
        "outputId": "f4d02668-2f0e-4e35-d755-1d769a1bd7a0"
      },
      "source": [
        "# Plotting accuracy vs epochs and loss vs epochs graph \r\n",
        "def plot_graphs(history, string):\r\n",
        "    plt.plot(history.history[string])\r\n",
        "    plt.plot(history.history['val_'+string])\r\n",
        "    plt.xlabel(\"Epochs\")\r\n",
        "    plt.ylabel(string)\r\n",
        "    plt.legend([string, 'val_'+string])\r\n",
        "    plt.show()\r\n",
        "  \r\n",
        "plot_graphs(history, \"acc\")\r\n",
        "plot_graphs(history, \"loss\")"
      ],
      "execution_count": 49,
      "outputs": [
        {
          "output_type": "display_data",
          "data": {
            "image/png": "[encoded data removed]",
            "text/plain": [
              "<Figure size 432x288 with 1 Axes>"
            ]
          },
          "metadata": {
            "tags": [],
            "needs_background": "light"
          }
        },
        {
          "output_type": "display_data",
          "data": {
            "image/png": "[encoded data removed]",
            "text/plain": [
              "<Figure size 432x288 with 1 Axes>"
            ]
          },
          "metadata": {
            "tags": [],
            "needs_background": "light"
          }
        }
      ]
    },
    {
      "cell_type": "code",
      "metadata": {
        "colab": {
          "base_uri": "https://localhost:8080/"
        },
        "id": "voWh8kKMxM7j",
        "outputId": "24ea03ce-db1b-4091-d2a0-17132174b4f2"
      },
      "source": [
        "from keras.models import load_model\r\n",
        "model = load_model('best_model.h5')\r\n",
        "\r\n",
        "#evaluation \r\n",
        "_,val_acc = model.evaluate(x_val_seq,y_val, batch_size=128)\r\n",
        "print(val_acc)"
      ],
      "execution_count": 30,
      "outputs": [
        {
          "output_type": "stream",
          "text": [
            "7/7 [==============================] - 1s 107ms/step - loss: 0.6549 - acc: 0.7497\n",
            "0.7496932744979858\n"
          ],
          "name": "stdout"
        }
      ]
    },
    {
      "cell_type": "code",
      "metadata": {
        "id": "HfXWRQAU59pc"
      },
      "source": [
        "# Function to predict \r\n",
        "def pred(text):\r\n",
        "  x_test = []\r\n",
        "  x_test.append(text)\r\n",
        "  x_test_seq_1 = tokenizer.texts_to_sequences(x_test)\r\n",
        "  x_test_seq_2 = pad_sequences(x_test_seq_1, maxlen=100)\r\n",
        "  return x_test_seq_2"
      ],
      "execution_count": 37,
      "outputs": []
    },
    {
      "cell_type": "code",
      "metadata": {
        "colab": {
          "base_uri": "https://localhost:8080/"
        },
        "id": "VBB-4W0F9GIy",
        "outputId": "cfefac26-e403-43cd-8841-03d7a20c396c"
      },
      "source": [
        "# Change the output in text for prediction\r\n",
        "text = \"Smriti Irani celebrates daughters Zoish, Shanelle with throwback pic.\"\r\n",
        "x_test_1 = pred(text)\r\n",
        "x_test_1 = np.array(x_test_1)\r\n",
        "result = model.predict(x_test_1)\r\n",
        "print(np.argmax(result))"
      ],
      "execution_count": 45,
      "outputs": [
        {
          "output_type": "stream",
          "text": [
            "3\n"
          ],
          "name": "stdout"
        }
      ]
    },
    {
      "cell_type": "code",
      "metadata": {
        "id": "VIIpNPhC9zgr"
      },
      "source": [
        ""
      ],
      "execution_count": null,
      "outputs": []
    }
  ]
}